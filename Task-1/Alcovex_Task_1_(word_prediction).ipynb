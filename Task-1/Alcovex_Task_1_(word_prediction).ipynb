{
  "cells": [
    {
      "cell_type": "markdown",
      "source": [
        "P.Gourav Pragvamsa"
      ],
      "metadata": {
        "id": "2aJhI1QXhhTL"
      }
    },
    {
      "cell_type": "markdown",
      "source": [
        "# **Text Prediction**"
      ],
      "metadata": {
        "id": "onUc8FCOhluZ"
      }
    },
    {
      "cell_type": "markdown",
      "metadata": {
        "id": "qKYPeVzahnNt"
      },
      "source": [
        "### Importing The Required Libraries:"
      ]
    },
    {
      "cell_type": "code",
      "execution_count": 1,
      "metadata": {
        "id": "8KQfkp6ZhnNu"
      },
      "outputs": [],
      "source": [
        "import tensorflow as tf\n",
        "from tensorflow.keras.preprocessing.text import Tokenizer\n",
        "from tensorflow.keras.layers import Embedding, LSTM, Dense\n",
        "from tensorflow.keras.models import Sequential\n",
        "from tensorflow.keras.utils import to_categorical\n",
        "from tensorflow.keras.optimizers import Adam\n",
        "import pickle\n",
        "import numpy as np\n",
        "import os"
      ]
    },
    {
      "cell_type": "code",
      "execution_count": 2,
      "metadata": {
        "id": "3mKJ5SIQhnNv"
      },
      "outputs": [],
      "source": [
        "file = open(\"/content/dataset.txt\", \"r\", encoding = \"utf8\")\n",
        "lines = []\n",
        "\n",
        "for i in file:\n",
        "    lines.append(i)"
      ]
    },
    {
      "cell_type": "markdown",
      "metadata": {
        "id": "HnJk8enThnNx"
      },
      "source": [
        "### Cleaning the data:"
      ]
    },
    {
      "cell_type": "code",
      "execution_count": 3,
      "metadata": {
        "colab": {
          "base_uri": "https://localhost:8080/",
          "height": 87
        },
        "id": "Y6r4RN7MhnNx",
        "outputId": "62cad2dd-c9a6-4484-8cbd-92332e6daa90"
      },
      "outputs": [
        {
          "output_type": "execute_result",
          "data": {
            "text/plain": [
              "'One morning, when Gregor Samsa woke from troubled dreams, he found himself transformed in his bed into a horrible vermin.  He lay on his armour-like back, and if he lifted his head a little he could see his brown belly, slightly domed and divided by arches into stiff sections.  The bedding was hardly able to cover it and seemed ready to slide off any moment.'"
            ],
            "application/vnd.google.colaboratory.intrinsic+json": {
              "type": "string"
            }
          },
          "metadata": {},
          "execution_count": 3
        }
      ],
      "source": [
        "data = \"\"\n",
        "\n",
        "for i in lines:\n",
        "    data = ' '. join(lines)\n",
        "    \n",
        "data = data.replace('\\n', '').replace('\\r', '').replace('\\ufeff', '')\n",
        "data[:360]"
      ]
    },
    {
      "cell_type": "code",
      "execution_count": 4,
      "metadata": {
        "colab": {
          "base_uri": "https://localhost:8080/",
          "height": 104
        },
        "id": "H1xXhccuhnNz",
        "outputId": "3a7d2aec-8a00-46ba-d494-372433f60e50"
      },
      "outputs": [
        {
          "output_type": "execute_result",
          "data": {
            "text/plain": [
              "'One morning  when Gregor Samsa woke from troubled dreams  he found himself transformed in his bed into a horrible vermin   He lay on his armour like back  and if he lifted his head a little he could see his brown belly  slightly domed and divided by arches into stiff sections   The bedding was hardly able to cover it and seemed ready to slide off any moment   His many legs  pitifully thin compared with the size of the rest of him  waved about helplessly as he looked    What s happened to me   he'"
            ],
            "application/vnd.google.colaboratory.intrinsic+json": {
              "type": "string"
            }
          },
          "metadata": {},
          "execution_count": 4
        }
      ],
      "source": [
        "import string\n",
        "\n",
        "translator = str.maketrans(string.punctuation, ' '*len(string.punctuation)) #map punctuation to space\n",
        "new_data = data.translate(translator)\n",
        "\n",
        "new_data[:500]"
      ]
    },
    {
      "cell_type": "code",
      "execution_count": 5,
      "metadata": {
        "colab": {
          "base_uri": "https://localhost:8080/",
          "height": 104
        },
        "id": "4xVLps8dhnN0",
        "outputId": "bdb7ec06-b6c7-4c5b-eaa6-af4a874beb36"
      },
      "outputs": [
        {
          "output_type": "execute_result",
          "data": {
            "text/plain": [
              "'One morning, when Gregor Samsa woke from troubled dreams, he found himself transformed in his bed into a horrible vermin. He lay on armour-like back, and if lifted head little could see brown belly, slightly domed divided by arches stiff sections. The bedding was hardly able to cover it seemed ready slide off any moment. His many legs, pitifully thin compared with the size of rest him, waved about helplessly as looked. \"What\\'s happened me?\" thought. It wasn\\'t dream. room, proper human room altho'"
            ],
            "application/vnd.google.colaboratory.intrinsic+json": {
              "type": "string"
            }
          },
          "metadata": {},
          "execution_count": 5
        }
      ],
      "source": [
        "z = []\n",
        "\n",
        "for i in data.split():\n",
        "    if i not in z:\n",
        "        z.append(i)\n",
        "        \n",
        "data = ' '.join(z)\n",
        "data[:500]"
      ]
    },
    {
      "cell_type": "markdown",
      "metadata": {
        "id": "sqFvMYjXhnN1"
      },
      "source": [
        "### Tokenization:"
      ]
    },
    {
      "cell_type": "code",
      "execution_count": 6,
      "metadata": {
        "colab": {
          "base_uri": "https://localhost:8080/"
        },
        "id": "QDqDOB4ThnN1",
        "outputId": "b528bd0f-3412-4fa6-b685-5a430bad3e39"
      },
      "outputs": [
        {
          "output_type": "execute_result",
          "data": {
            "text/plain": [
              "[17, 53, 293, 2, 18, 729, 135, 730, 294, 8]"
            ]
          },
          "metadata": {},
          "execution_count": 6
        }
      ],
      "source": [
        "tokenizer = Tokenizer()\n",
        "tokenizer.fit_on_texts([data])\n",
        "pickle.dump(tokenizer, open('tokenizer1.pkl', 'wb'))\n",
        "sequence_data = tokenizer.texts_to_sequences([data])[0]\n",
        "sequence_data[:10]"
      ]
    },
    {
      "cell_type": "code",
      "execution_count": 7,
      "metadata": {
        "colab": {
          "base_uri": "https://localhost:8080/"
        },
        "id": "w3b0nlVQhnN2",
        "outputId": "5d1b3f06-e9f8-4d41-8b81-6946256ad637"
      },
      "outputs": [
        {
          "output_type": "stream",
          "name": "stdout",
          "text": [
            "2617\n"
          ]
        }
      ],
      "source": [
        "vocab_size = len(tokenizer.word_index) + 1\n",
        "print(vocab_size)"
      ]
    },
    {
      "cell_type": "code",
      "execution_count": 8,
      "metadata": {
        "colab": {
          "base_uri": "https://localhost:8080/"
        },
        "id": "VL7cyiDohnN2",
        "outputId": "40f99429-86cf-49e7-e257-d8813ff69e3c"
      },
      "outputs": [
        {
          "output_type": "stream",
          "name": "stdout",
          "text": [
            "The Length of sequences are:  3889\n"
          ]
        },
        {
          "output_type": "execute_result",
          "data": {
            "text/plain": [
              "array([[ 17,  53],\n",
              "       [ 53, 293],\n",
              "       [293,   2],\n",
              "       [  2,  18],\n",
              "       [ 18, 729],\n",
              "       [729, 135],\n",
              "       [135, 730],\n",
              "       [730, 294],\n",
              "       [294,   8],\n",
              "       [  8, 731]])"
            ]
          },
          "metadata": {},
          "execution_count": 8
        }
      ],
      "source": [
        "sequences = []\n",
        "\n",
        "for i in range(1, len(sequence_data)):\n",
        "    words = sequence_data[i-1:i+1]\n",
        "    sequences.append(words)\n",
        "    \n",
        "print(\"The Length of sequences are: \", len(sequences))\n",
        "sequences = np.array(sequences)\n",
        "sequences[:10]"
      ]
    },
    {
      "cell_type": "code",
      "execution_count": 9,
      "metadata": {
        "id": "kqEFbHXwhnN2"
      },
      "outputs": [],
      "source": [
        "X = []\n",
        "y = []\n",
        "\n",
        "for i in sequences:\n",
        "    X.append(i[0])\n",
        "    y.append(i[1])\n",
        "    \n",
        "X = np.array(X)\n",
        "y = np.array(y)"
      ]
    },
    {
      "cell_type": "code",
      "execution_count": 10,
      "metadata": {
        "colab": {
          "base_uri": "https://localhost:8080/"
        },
        "id": "VDHZfIM_hnN3",
        "outputId": "be216178-920d-4d8a-cc57-852c68d3bd24"
      },
      "outputs": [
        {
          "output_type": "stream",
          "name": "stdout",
          "text": [
            "The Data is:  [ 17  53 293   2  18]\n",
            "The responses are:  [ 53 293   2  18 729]\n"
          ]
        }
      ],
      "source": [
        "print(\"The Data is: \", X[:5])\n",
        "print(\"The responses are: \", y[:5])"
      ]
    },
    {
      "cell_type": "code",
      "execution_count": 11,
      "metadata": {
        "colab": {
          "base_uri": "https://localhost:8080/"
        },
        "id": "hD2hUr9EhnN3",
        "outputId": "ef78ec86-2046-423e-aec3-a84f4c7432f0"
      },
      "outputs": [
        {
          "output_type": "execute_result",
          "data": {
            "text/plain": [
              "array([[0., 0., 0., ..., 0., 0., 0.],\n",
              "       [0., 0., 0., ..., 0., 0., 0.],\n",
              "       [0., 0., 1., ..., 0., 0., 0.],\n",
              "       [0., 0., 0., ..., 0., 0., 0.],\n",
              "       [0., 0., 0., ..., 0., 0., 0.]], dtype=float32)"
            ]
          },
          "metadata": {},
          "execution_count": 11
        }
      ],
      "source": [
        "y = to_categorical(y, num_classes=vocab_size)\n",
        "y[:5]"
      ]
    },
    {
      "cell_type": "markdown",
      "metadata": {
        "id": "V7MLR3ZthnN3"
      },
      "source": [
        "### Creating the Model:"
      ]
    },
    {
      "cell_type": "code",
      "execution_count": 12,
      "metadata": {
        "id": "3LluL32fhnN3"
      },
      "outputs": [],
      "source": [
        "model = Sequential()\n",
        "model.add(Embedding(vocab_size, 10, input_length=1))\n",
        "model.add(LSTM(1000, return_sequences=True))\n",
        "model.add(LSTM(1000))\n",
        "model.add(Dense(1000, activation=\"relu\"))\n",
        "model.add(Dense(vocab_size, activation=\"softmax\"))"
      ]
    },
    {
      "cell_type": "code",
      "execution_count": 13,
      "metadata": {
        "colab": {
          "base_uri": "https://localhost:8080/"
        },
        "id": "saduLIXUhnN4",
        "outputId": "c85f4a1d-1e8d-4faf-d38c-0cec37a7ca96"
      },
      "outputs": [
        {
          "output_type": "stream",
          "name": "stdout",
          "text": [
            "Model: \"sequential\"\n",
            "_________________________________________________________________\n",
            " Layer (type)                Output Shape              Param #   \n",
            "=================================================================\n",
            " embedding (Embedding)       (None, 1, 10)             26170     \n",
            "                                                                 \n",
            " lstm (LSTM)                 (None, 1, 1000)           4044000   \n",
            "                                                                 \n",
            " lstm_1 (LSTM)               (None, 1000)              8004000   \n",
            "                                                                 \n",
            " dense (Dense)               (None, 1000)              1001000   \n",
            "                                                                 \n",
            " dense_1 (Dense)             (None, 2617)              2619617   \n",
            "                                                                 \n",
            "=================================================================\n",
            "Total params: 15,694,787\n",
            "Trainable params: 15,694,787\n",
            "Non-trainable params: 0\n",
            "_________________________________________________________________\n"
          ]
        }
      ],
      "source": [
        "model.summary()"
      ]
    },
    {
      "cell_type": "markdown",
      "metadata": {
        "id": "Bt3yPjDshnN4"
      },
      "source": [
        "### Plot The Model:"
      ]
    },
    {
      "cell_type": "code",
      "execution_count": 14,
      "metadata": {
        "colab": {
          "base_uri": "https://localhost:8080/",
          "height": 564
        },
        "id": "4pJPSx3nhnN4",
        "outputId": "64e43f2e-d5f0-4ba0-e563-ebe41840d602"
      },
      "outputs": [
        {
          "output_type": "execute_result",
          "data": {
            "image/png": "[encoded data removed]",
            "text/plain": [
              "<IPython.core.display.Image object>"
            ]
          },
          "metadata": {},
          "execution_count": 14
        }
      ],
      "source": [
        "from tensorflow import keras\n",
        "from keras.utils.vis_utils import plot_model\n",
        "\n",
        "keras.utils.plot_model(model, to_file='model.png', show_layer_names=True)"
      ]
    },
    {
      "cell_type": "markdown",
      "metadata": {
        "id": "UmAARMYrhnN4"
      },
      "source": [
        "### Callbacks:"
      ]
    },
    {
      "cell_type": "code",
      "execution_count": 15,
      "metadata": {
        "id": "6-h3nOEuhnN4"
      },
      "outputs": [],
      "source": [
        "from tensorflow.keras.callbacks import ModelCheckpoint\n",
        "from tensorflow.keras.callbacks import ReduceLROnPlateau\n",
        "from tensorflow.keras.callbacks import TensorBoard\n",
        "\n",
        "checkpoint = ModelCheckpoint(\"nextword1.h5\", monitor='loss', verbose=1,\n",
        "    save_best_only=True, mode='auto')\n",
        "\n",
        "reduce = ReduceLROnPlateau(monitor='loss', factor=0.2, patience=3, min_lr=0.0001, verbose = 1)\n",
        "\n",
        "logdir='logsnextword1'\n",
        "tensorboard_Visualization = TensorBoard(log_dir=logdir)"
      ]
    },
    {
      "cell_type": "markdown",
      "metadata": {
        "id": "PDfKvgNlhnN5"
      },
      "source": [
        "### Compile The Model:"
      ]
    },
    {
      "cell_type": "code",
      "execution_count": 16,
      "metadata": {
        "colab": {
          "base_uri": "https://localhost:8080/"
        },
        "id": "yiE8RS17hnN5",
        "outputId": "eca8ff1a-5757-43dc-c03e-9719340adeed"
      },
      "outputs": [
        {
          "output_type": "stream",
          "name": "stderr",
          "text": [
            "WARNING:absl:`lr` is deprecated in Keras optimizer, please use `learning_rate` or use the legacy optimizer, e.g.,tf.keras.optimizers.legacy.Adam.\n"
          ]
        }
      ],
      "source": [
        "model.compile(loss=\"categorical_crossentropy\", optimizer=Adam(lr=0.001))"
      ]
    },
    {
      "cell_type": "markdown",
      "metadata": {
        "id": "dFmETUxyhnN5"
      },
      "source": [
        "### Fit The Model:"
      ]
    },
    {
      "cell_type": "code",
      "execution_count": 17,
      "metadata": {
        "colab": {
          "base_uri": "https://localhost:8080/"
        },
        "id": "CI0__KtvhnN5",
        "outputId": "4f04fa45-64f7-4db5-a4bc-e342753d51b5"
      },
      "outputs": [
        {
          "output_type": "stream",
          "name": "stdout",
          "text": [
            "Epoch 1/150\n",
            "61/61 [==============================] - ETA: 0s - loss: 7.8755\n",
            "Epoch 1: loss improved from inf to 7.87553, saving model to nextword1.h5\n",
            "61/61 [==============================] - 27s 345ms/step - loss: 7.8755 - lr: 0.0010\n",
            "Epoch 2/150\n",
            "61/61 [==============================] - ETA: 0s - loss: 7.8618\n",
            "Epoch 2: loss improved from 7.87553 to 7.86181, saving model to nextword1.h5\n",
            "61/61 [==============================] - 20s 324ms/step - loss: 7.8618 - lr: 0.0010\n",
            "Epoch 3/150\n",
            "61/61 [==============================] - ETA: 0s - loss: 7.8251\n",
            "Epoch 3: loss improved from 7.86181 to 7.82510, saving model to nextword1.h5\n",
            "61/61 [==============================] - 20s 330ms/step - loss: 7.8251 - lr: 0.0010\n",
            "Epoch 4/150\n",
            "61/61 [==============================] - ETA: 0s - loss: 7.6879\n",
            "Epoch 4: loss improved from 7.82510 to 7.68787, saving model to nextword1.h5\n",
            "61/61 [==============================] - 20s 331ms/step - loss: 7.6879 - lr: 0.0010\n",
            "Epoch 5/150\n",
            "61/61 [==============================] - ETA: 0s - loss: 7.4943\n",
            "Epoch 5: loss improved from 7.68787 to 7.49427, saving model to nextword1.h5\n",
            "61/61 [==============================] - 20s 329ms/step - loss: 7.4943 - lr: 0.0010\n",
            "Epoch 6/150\n",
            "61/61 [==============================] - ETA: 0s - loss: 7.3069\n",
            "Epoch 6: loss improved from 7.49427 to 7.30689, saving model to nextword1.h5\n",
            "61/61 [==============================] - 19s 314ms/step - loss: 7.3069 - lr: 0.0010\n",
            "Epoch 7/150\n",
            "61/61 [==============================] - ETA: 0s - loss: 7.1792\n",
            "Epoch 7: loss improved from 7.30689 to 7.17923, saving model to nextword1.h5\n",
            "61/61 [==============================] - 21s 338ms/step - loss: 7.1792 - lr: 0.0010\n",
            "Epoch 8/150\n",
            "61/61 [==============================] - ETA: 0s - loss: 7.0323\n",
            "Epoch 8: loss improved from 7.17923 to 7.03235, saving model to nextword1.h5\n",
            "61/61 [==============================] - 20s 335ms/step - loss: 7.0323 - lr: 0.0010\n",
            "Epoch 9/150\n",
            "61/61 [==============================] - ETA: 0s - loss: 6.7977\n",
            "Epoch 9: loss improved from 7.03235 to 6.79765, saving model to nextword1.h5\n",
            "61/61 [==============================] - 20s 319ms/step - loss: 6.7977 - lr: 0.0010\n",
            "Epoch 10/150\n",
            "61/61 [==============================] - ETA: 0s - loss: 6.5296\n",
            "Epoch 10: loss improved from 6.79765 to 6.52959, saving model to nextword1.h5\n",
            "61/61 [==============================] - 21s 344ms/step - loss: 6.5296 - lr: 0.0010\n",
            "Epoch 11/150\n",
            "61/61 [==============================] - ETA: 0s - loss: 6.3219\n",
            "Epoch 11: loss improved from 6.52959 to 6.32187, saving model to nextword1.h5\n",
            "61/61 [==============================] - 20s 324ms/step - loss: 6.3219 - lr: 0.0010\n",
            "Epoch 12/150\n",
            "61/61 [==============================] - ETA: 0s - loss: 6.1372\n",
            "Epoch 12: loss improved from 6.32187 to 6.13719, saving model to nextword1.h5\n",
            "61/61 [==============================] - 21s 339ms/step - loss: 6.1372 - lr: 0.0010\n",
            "Epoch 13/150\n",
            "61/61 [==============================] - ETA: 0s - loss: 5.9514\n",
            "Epoch 13: loss improved from 6.13719 to 5.95145, saving model to nextword1.h5\n",
            "61/61 [==============================] - 19s 310ms/step - loss: 5.9514 - lr: 0.0010\n",
            "Epoch 14/150\n",
            "61/61 [==============================] - ETA: 0s - loss: 5.7828\n",
            "Epoch 14: loss improved from 5.95145 to 5.78285, saving model to nextword1.h5\n",
            "61/61 [==============================] - 26s 429ms/step - loss: 5.7828 - lr: 0.0010\n",
            "Epoch 15/150\n",
            "61/61 [==============================] - ETA: 0s - loss: 5.6135\n",
            "Epoch 15: loss improved from 5.78285 to 5.61345, saving model to nextword1.h5\n",
            "61/61 [==============================] - 20s 333ms/step - loss: 5.6135 - lr: 0.0010\n",
            "Epoch 16/150\n",
            "61/61 [==============================] - ETA: 0s - loss: 5.4589\n",
            "Epoch 16: loss improved from 5.61345 to 5.45891, saving model to nextword1.h5\n",
            "61/61 [==============================] - 21s 340ms/step - loss: 5.4589 - lr: 0.0010\n",
            "Epoch 17/150\n",
            "61/61 [==============================] - ETA: 0s - loss: 5.3197\n",
            "Epoch 17: loss improved from 5.45891 to 5.31965, saving model to nextword1.h5\n",
            "61/61 [==============================] - 21s 338ms/step - loss: 5.3197 - lr: 0.0010\n",
            "Epoch 18/150\n",
            "61/61 [==============================] - ETA: 0s - loss: 5.1858\n",
            "Epoch 18: loss improved from 5.31965 to 5.18582, saving model to nextword1.h5\n",
            "61/61 [==============================] - 21s 340ms/step - loss: 5.1858 - lr: 0.0010\n",
            "Epoch 19/150\n",
            "61/61 [==============================] - ETA: 0s - loss: 5.0621\n",
            "Epoch 19: loss improved from 5.18582 to 5.06206, saving model to nextword1.h5\n",
            "61/61 [==============================] - 20s 329ms/step - loss: 5.0621 - lr: 0.0010\n",
            "Epoch 20/150\n",
            "61/61 [==============================] - ETA: 0s - loss: 4.9665\n",
            "Epoch 20: loss improved from 5.06206 to 4.96648, saving model to nextword1.h5\n",
            "61/61 [==============================] - 21s 344ms/step - loss: 4.9665 - lr: 0.0010\n",
            "Epoch 21/150\n",
            "61/61 [==============================] - ETA: 0s - loss: 4.8583\n",
            "Epoch 21: loss improved from 4.96648 to 4.85835, saving model to nextword1.h5\n",
            "61/61 [==============================] - 19s 314ms/step - loss: 4.8583 - lr: 0.0010\n",
            "Epoch 22/150\n",
            "61/61 [==============================] - ETA: 0s - loss: 4.7344\n",
            "Epoch 22: loss improved from 4.85835 to 4.73444, saving model to nextword1.h5\n",
            "61/61 [==============================] - 21s 337ms/step - loss: 4.7344 - lr: 0.0010\n",
            "Epoch 23/150\n",
            "61/61 [==============================] - ETA: 0s - loss: 4.6557\n",
            "Epoch 23: loss improved from 4.73444 to 4.65566, saving model to nextword1.h5\n",
            "61/61 [==============================] - 19s 309ms/step - loss: 4.6557 - lr: 0.0010\n",
            "Epoch 24/150\n",
            "61/61 [==============================] - ETA: 0s - loss: 4.5581\n",
            "Epoch 24: loss improved from 4.65566 to 4.55811, saving model to nextword1.h5\n",
            "61/61 [==============================] - 21s 340ms/step - loss: 4.5581 - lr: 0.0010\n",
            "Epoch 25/150\n",
            "61/61 [==============================] - ETA: 0s - loss: 4.4911\n",
            "Epoch 25: loss improved from 4.55811 to 4.49111, saving model to nextword1.h5\n",
            "61/61 [==============================] - 21s 343ms/step - loss: 4.4911 - lr: 0.0010\n",
            "Epoch 26/150\n",
            "61/61 [==============================] - ETA: 0s - loss: 4.3896\n",
            "Epoch 26: loss improved from 4.49111 to 4.38956, saving model to nextword1.h5\n",
            "61/61 [==============================] - 20s 330ms/step - loss: 4.3896 - lr: 0.0010\n",
            "Epoch 27/150\n",
            "61/61 [==============================] - ETA: 0s - loss: 4.3363\n",
            "Epoch 27: loss improved from 4.38956 to 4.33626, saving model to nextword1.h5\n",
            "61/61 [==============================] - 22s 359ms/step - loss: 4.3363 - lr: 0.0010\n",
            "Epoch 28/150\n",
            "61/61 [==============================] - ETA: 0s - loss: 4.2692\n",
            "Epoch 28: loss improved from 4.33626 to 4.26921, saving model to nextword1.h5\n",
            "61/61 [==============================] - 21s 349ms/step - loss: 4.2692 - lr: 0.0010\n",
            "Epoch 29/150\n",
            "61/61 [==============================] - ETA: 0s - loss: 4.1676\n",
            "Epoch 29: loss improved from 4.26921 to 4.16757, saving model to nextword1.h5\n",
            "61/61 [==============================] - 20s 329ms/step - loss: 4.1676 - lr: 0.0010\n",
            "Epoch 30/150\n",
            "61/61 [==============================] - ETA: 0s - loss: 4.0873\n",
            "Epoch 30: loss improved from 4.16757 to 4.08730, saving model to nextword1.h5\n",
            "61/61 [==============================] - 22s 365ms/step - loss: 4.0873 - lr: 0.0010\n",
            "Epoch 31/150\n",
            "61/61 [==============================] - ETA: 0s - loss: 4.0482\n",
            "Epoch 31: loss improved from 4.08730 to 4.04816, saving model to nextword1.h5\n",
            "61/61 [==============================] - 22s 354ms/step - loss: 4.0482 - lr: 0.0010\n",
            "Epoch 32/150\n",
            "61/61 [==============================] - ETA: 0s - loss: 3.9415\n",
            "Epoch 32: loss improved from 4.04816 to 3.94153, saving model to nextword1.h5\n",
            "61/61 [==============================] - 20s 322ms/step - loss: 3.9415 - lr: 0.0010\n",
            "Epoch 33/150\n",
            "61/61 [==============================] - ETA: 0s - loss: 3.8511\n",
            "Epoch 33: loss improved from 3.94153 to 3.85107, saving model to nextword1.h5\n",
            "61/61 [==============================] - 21s 340ms/step - loss: 3.8511 - lr: 0.0010\n",
            "Epoch 34/150\n",
            "61/61 [==============================] - ETA: 0s - loss: 3.7597\n",
            "Epoch 34: loss improved from 3.85107 to 3.75974, saving model to nextword1.h5\n",
            "61/61 [==============================] - 19s 317ms/step - loss: 3.7597 - lr: 0.0010\n",
            "Epoch 35/150\n",
            "61/61 [==============================] - ETA: 0s - loss: 3.6781\n",
            "Epoch 35: loss improved from 3.75974 to 3.67808, saving model to nextword1.h5\n",
            "61/61 [==============================] - 22s 366ms/step - loss: 3.6781 - lr: 0.0010\n",
            "Epoch 36/150\n",
            "61/61 [==============================] - ETA: 0s - loss: 3.5484\n",
            "Epoch 36: loss improved from 3.67808 to 3.54837, saving model to nextword1.h5\n",
            "61/61 [==============================] - 22s 355ms/step - loss: 3.5484 - lr: 0.0010\n",
            "Epoch 37/150\n",
            "61/61 [==============================] - ETA: 0s - loss: 3.4632\n",
            "Epoch 37: loss improved from 3.54837 to 3.46322, saving model to nextword1.h5\n",
            "61/61 [==============================] - 20s 328ms/step - loss: 3.4632 - lr: 0.0010\n",
            "Epoch 38/150\n",
            "61/61 [==============================] - ETA: 0s - loss: 3.3513\n",
            "Epoch 38: loss improved from 3.46322 to 3.35133, saving model to nextword1.h5\n",
            "61/61 [==============================] - 21s 345ms/step - loss: 3.3513 - lr: 0.0010\n",
            "Epoch 39/150\n",
            "61/61 [==============================] - ETA: 0s - loss: 3.2776\n",
            "Epoch 39: loss improved from 3.35133 to 3.27764, saving model to nextword1.h5\n",
            "61/61 [==============================] - 19s 318ms/step - loss: 3.2776 - lr: 0.0010\n",
            "Epoch 40/150\n",
            "61/61 [==============================] - ETA: 0s - loss: 3.1849\n",
            "Epoch 40: loss improved from 3.27764 to 3.18490, saving model to nextword1.h5\n",
            "61/61 [==============================] - 21s 344ms/step - loss: 3.1849 - lr: 0.0010\n",
            "Epoch 41/150\n",
            "61/61 [==============================] - ETA: 0s - loss: 3.0555\n",
            "Epoch 41: loss improved from 3.18490 to 3.05545, saving model to nextword1.h5\n",
            "61/61 [==============================] - 19s 315ms/step - loss: 3.0555 - lr: 0.0010\n",
            "Epoch 42/150\n",
            "61/61 [==============================] - ETA: 0s - loss: 3.0085\n",
            "Epoch 42: loss improved from 3.05545 to 3.00851, saving model to nextword1.h5\n",
            "61/61 [==============================] - 19s 310ms/step - loss: 3.0085 - lr: 0.0010\n",
            "Epoch 43/150\n",
            "61/61 [==============================] - ETA: 0s - loss: 2.9530\n",
            "Epoch 43: loss improved from 3.00851 to 2.95300, saving model to nextword1.h5\n",
            "61/61 [==============================] - 22s 363ms/step - loss: 2.9530 - lr: 0.0010\n",
            "Epoch 44/150\n",
            "61/61 [==============================] - ETA: 0s - loss: 2.8861\n",
            "Epoch 44: loss improved from 2.95300 to 2.88606, saving model to nextword1.h5\n",
            "61/61 [==============================] - 19s 317ms/step - loss: 2.8861 - lr: 0.0010\n",
            "Epoch 45/150\n",
            "61/61 [==============================] - ETA: 0s - loss: 2.8122\n",
            "Epoch 45: loss improved from 2.88606 to 2.81218, saving model to nextword1.h5\n",
            "61/61 [==============================] - 21s 335ms/step - loss: 2.8122 - lr: 0.0010\n",
            "Epoch 46/150\n",
            "61/61 [==============================] - ETA: 0s - loss: 2.7207\n",
            "Epoch 46: loss improved from 2.81218 to 2.72066, saving model to nextword1.h5\n",
            "61/61 [==============================] - 19s 304ms/step - loss: 2.7207 - lr: 0.0010\n",
            "Epoch 47/150\n",
            "61/61 [==============================] - ETA: 0s - loss: 2.7029\n",
            "Epoch 47: loss improved from 2.72066 to 2.70293, saving model to nextword1.h5\n",
            "61/61 [==============================] - 20s 330ms/step - loss: 2.7029 - lr: 0.0010\n",
            "Epoch 48/150\n",
            "61/61 [==============================] - ETA: 0s - loss: 2.6317\n",
            "Epoch 48: loss improved from 2.70293 to 2.63173, saving model to nextword1.h5\n",
            "61/61 [==============================] - 19s 304ms/step - loss: 2.6317 - lr: 0.0010\n",
            "Epoch 49/150\n",
            "61/61 [==============================] - ETA: 0s - loss: 2.5775\n",
            "Epoch 49: loss improved from 2.63173 to 2.57749, saving model to nextword1.h5\n",
            "61/61 [==============================] - 20s 327ms/step - loss: 2.5775 - lr: 0.0010\n",
            "Epoch 50/150\n",
            "61/61 [==============================] - ETA: 0s - loss: 2.5160\n",
            "Epoch 50: loss improved from 2.57749 to 2.51597, saving model to nextword1.h5\n",
            "61/61 [==============================] - 20s 335ms/step - loss: 2.5160 - lr: 0.0010\n",
            "Epoch 51/150\n",
            "61/61 [==============================] - ETA: 0s - loss: 2.4771\n",
            "Epoch 51: loss improved from 2.51597 to 2.47711, saving model to nextword1.h5\n",
            "61/61 [==============================] - 20s 326ms/step - loss: 2.4771 - lr: 0.0010\n",
            "Epoch 52/150\n",
            "61/61 [==============================] - ETA: 0s - loss: 2.4314\n",
            "Epoch 52: loss improved from 2.47711 to 2.43139, saving model to nextword1.h5\n",
            "61/61 [==============================] - 19s 313ms/step - loss: 2.4314 - lr: 0.0010\n",
            "Epoch 53/150\n",
            "61/61 [==============================] - ETA: 0s - loss: 2.3931\n",
            "Epoch 53: loss improved from 2.43139 to 2.39311, saving model to nextword1.h5\n",
            "61/61 [==============================] - 20s 329ms/step - loss: 2.3931 - lr: 0.0010\n",
            "Epoch 54/150\n",
            "61/61 [==============================] - ETA: 0s - loss: 2.3319\n",
            "Epoch 54: loss improved from 2.39311 to 2.33185, saving model to nextword1.h5\n",
            "61/61 [==============================] - 19s 309ms/step - loss: 2.3319 - lr: 0.0010\n",
            "Epoch 55/150\n",
            "61/61 [==============================] - ETA: 0s - loss: 2.2792\n",
            "Epoch 55: loss improved from 2.33185 to 2.27917, saving model to nextword1.h5\n",
            "61/61 [==============================] - 22s 361ms/step - loss: 2.2792 - lr: 0.0010\n",
            "Epoch 56/150\n",
            "61/61 [==============================] - ETA: 0s - loss: 2.2792\n",
            "Epoch 56: loss improved from 2.27917 to 2.27917, saving model to nextword1.h5\n",
            "61/61 [==============================] - 23s 380ms/step - loss: 2.2792 - lr: 0.0010\n",
            "Epoch 57/150\n",
            "61/61 [==============================] - ETA: 0s - loss: 2.2556\n",
            "Epoch 57: loss improved from 2.27917 to 2.25556, saving model to nextword1.h5\n",
            "61/61 [==============================] - 23s 378ms/step - loss: 2.2556 - lr: 0.0010\n",
            "Epoch 58/150\n",
            "61/61 [==============================] - ETA: 0s - loss: 2.1865\n",
            "Epoch 58: loss improved from 2.25556 to 2.18651, saving model to nextword1.h5\n",
            "61/61 [==============================] - 23s 371ms/step - loss: 2.1865 - lr: 0.0010\n",
            "Epoch 59/150\n",
            "61/61 [==============================] - ETA: 0s - loss: 2.1052\n",
            "Epoch 59: loss improved from 2.18651 to 2.10520, saving model to nextword1.h5\n",
            "61/61 [==============================] - 23s 367ms/step - loss: 2.1052 - lr: 0.0010\n",
            "Epoch 60/150\n",
            "61/61 [==============================] - ETA: 0s - loss: 2.0743\n",
            "Epoch 60: loss improved from 2.10520 to 2.07434, saving model to nextword1.h5\n",
            "61/61 [==============================] - 21s 338ms/step - loss: 2.0743 - lr: 0.0010\n",
            "Epoch 61/150\n",
            "61/61 [==============================] - ETA: 0s - loss: 2.0563\n",
            "Epoch 61: loss improved from 2.07434 to 2.05629, saving model to nextword1.h5\n",
            "61/61 [==============================] - 18s 302ms/step - loss: 2.0563 - lr: 0.0010\n",
            "Epoch 62/150\n",
            "61/61 [==============================] - ETA: 0s - loss: 2.0381\n",
            "Epoch 62: loss improved from 2.05629 to 2.03807, saving model to nextword1.h5\n",
            "61/61 [==============================] - 20s 321ms/step - loss: 2.0381 - lr: 0.0010\n",
            "Epoch 63/150\n",
            "61/61 [==============================] - ETA: 0s - loss: 2.0235\n",
            "Epoch 63: loss improved from 2.03807 to 2.02346, saving model to nextword1.h5\n",
            "61/61 [==============================] - 18s 302ms/step - loss: 2.0235 - lr: 0.0010\n",
            "Epoch 64/150\n",
            "61/61 [==============================] - ETA: 0s - loss: 2.0149\n",
            "Epoch 64: loss improved from 2.02346 to 2.01494, saving model to nextword1.h5\n",
            "61/61 [==============================] - 21s 338ms/step - loss: 2.0149 - lr: 0.0010\n",
            "Epoch 65/150\n",
            "61/61 [==============================] - ETA: 0s - loss: 1.9653\n",
            "Epoch 65: loss improved from 2.01494 to 1.96531, saving model to nextword1.h5\n",
            "61/61 [==============================] - 19s 304ms/step - loss: 1.9653 - lr: 0.0010\n",
            "Epoch 66/150\n",
            "61/61 [==============================] - ETA: 0s - loss: 1.9386\n",
            "Epoch 66: loss improved from 1.96531 to 1.93858, saving model to nextword1.h5\n",
            "61/61 [==============================] - 20s 329ms/step - loss: 1.9386 - lr: 0.0010\n",
            "Epoch 67/150\n",
            "61/61 [==============================] - ETA: 0s - loss: 1.9114\n",
            "Epoch 67: loss improved from 1.93858 to 1.91136, saving model to nextword1.h5\n",
            "61/61 [==============================] - 19s 306ms/step - loss: 1.9114 - lr: 0.0010\n",
            "Epoch 68/150\n",
            "61/61 [==============================] - ETA: 0s - loss: 1.8885\n",
            "Epoch 68: loss improved from 1.91136 to 1.88850, saving model to nextword1.h5\n",
            "61/61 [==============================] - 21s 340ms/step - loss: 1.8885 - lr: 0.0010\n",
            "Epoch 69/150\n",
            "61/61 [==============================] - ETA: 0s - loss: 1.8802\n",
            "Epoch 69: loss improved from 1.88850 to 1.88025, saving model to nextword1.h5\n",
            "61/61 [==============================] - 18s 296ms/step - loss: 1.8802 - lr: 0.0010\n",
            "Epoch 70/150\n",
            "61/61 [==============================] - ETA: 0s - loss: 1.8371\n",
            "Epoch 70: loss improved from 1.88025 to 1.83706, saving model to nextword1.h5\n",
            "61/61 [==============================] - 20s 334ms/step - loss: 1.8371 - lr: 0.0010\n",
            "Epoch 71/150\n",
            "61/61 [==============================] - ETA: 0s - loss: 1.8138\n",
            "Epoch 71: loss improved from 1.83706 to 1.81375, saving model to nextword1.h5\n",
            "61/61 [==============================] - 19s 307ms/step - loss: 1.8138 - lr: 0.0010\n",
            "Epoch 72/150\n",
            "61/61 [==============================] - ETA: 0s - loss: 1.8008\n",
            "Epoch 72: loss improved from 1.81375 to 1.80079, saving model to nextword1.h5\n",
            "61/61 [==============================] - 19s 317ms/step - loss: 1.8008 - lr: 0.0010\n",
            "Epoch 73/150\n",
            "61/61 [==============================] - ETA: 0s - loss: 1.7940\n",
            "Epoch 73: loss improved from 1.80079 to 1.79396, saving model to nextword1.h5\n",
            "61/61 [==============================] - 25s 407ms/step - loss: 1.7940 - lr: 0.0010\n",
            "Epoch 74/150\n",
            "61/61 [==============================] - ETA: 0s - loss: 1.7773\n",
            "Epoch 74: loss improved from 1.79396 to 1.77727, saving model to nextword1.h5\n",
            "61/61 [==============================] - 20s 328ms/step - loss: 1.7773 - lr: 0.0010\n",
            "Epoch 75/150\n",
            "61/61 [==============================] - ETA: 0s - loss: 1.7353\n",
            "Epoch 75: loss improved from 1.77727 to 1.73527, saving model to nextword1.h5\n",
            "61/61 [==============================] - 20s 327ms/step - loss: 1.7353 - lr: 0.0010\n",
            "Epoch 76/150\n",
            "61/61 [==============================] - ETA: 0s - loss: 1.7043\n",
            "Epoch 76: loss improved from 1.73527 to 1.70432, saving model to nextword1.h5\n",
            "61/61 [==============================] - 19s 309ms/step - loss: 1.7043 - lr: 0.0010\n",
            "Epoch 77/150\n",
            "61/61 [==============================] - ETA: 0s - loss: 1.6928\n",
            "Epoch 77: loss improved from 1.70432 to 1.69276, saving model to nextword1.h5\n",
            "61/61 [==============================] - 20s 334ms/step - loss: 1.6928 - lr: 0.0010\n",
            "Epoch 78/150\n",
            "61/61 [==============================] - ETA: 0s - loss: 1.6971\n",
            "Epoch 78: loss did not improve from 1.69276\n",
            "61/61 [==============================] - 19s 305ms/step - loss: 1.6971 - lr: 0.0010\n",
            "Epoch 79/150\n",
            "61/61 [==============================] - ETA: 0s - loss: 1.6758\n",
            "Epoch 79: loss improved from 1.69276 to 1.67576, saving model to nextword1.h5\n",
            "61/61 [==============================] - 20s 321ms/step - loss: 1.6758 - lr: 0.0010\n",
            "Epoch 80/150\n",
            "61/61 [==============================] - ETA: 0s - loss: 1.6653\n",
            "Epoch 80: loss improved from 1.67576 to 1.66533, saving model to nextword1.h5\n",
            "61/61 [==============================] - 18s 302ms/step - loss: 1.6653 - lr: 0.0010\n",
            "Epoch 81/150\n",
            "61/61 [==============================] - ETA: 0s - loss: 1.6682\n",
            "Epoch 81: loss did not improve from 1.66533\n",
            "61/61 [==============================] - 19s 315ms/step - loss: 1.6682 - lr: 0.0010\n",
            "Epoch 82/150\n",
            "61/61 [==============================] - ETA: 0s - loss: 1.6465\n",
            "Epoch 82: loss improved from 1.66533 to 1.64652, saving model to nextword1.h5\n",
            "61/61 [==============================] - 18s 303ms/step - loss: 1.6465 - lr: 0.0010\n",
            "Epoch 83/150\n",
            "61/61 [==============================] - ETA: 0s - loss: 1.6065\n",
            "Epoch 83: loss improved from 1.64652 to 1.60646, saving model to nextword1.h5\n",
            "61/61 [==============================] - 20s 324ms/step - loss: 1.6065 - lr: 0.0010\n",
            "Epoch 84/150\n",
            "61/61 [==============================] - ETA: 0s - loss: 1.5961\n",
            "Epoch 84: loss improved from 1.60646 to 1.59605, saving model to nextword1.h5\n",
            "61/61 [==============================] - 18s 302ms/step - loss: 1.5961 - lr: 0.0010\n",
            "Epoch 85/150\n",
            "61/61 [==============================] - ETA: 0s - loss: 1.5910\n",
            "Epoch 85: loss improved from 1.59605 to 1.59104, saving model to nextword1.h5\n",
            "61/61 [==============================] - 20s 332ms/step - loss: 1.5910 - lr: 0.0010\n",
            "Epoch 86/150\n",
            "61/61 [==============================] - ETA: 0s - loss: 1.5771\n",
            "Epoch 86: loss improved from 1.59104 to 1.57706, saving model to nextword1.h5\n",
            "61/61 [==============================] - 19s 306ms/step - loss: 1.5771 - lr: 0.0010\n",
            "Epoch 87/150\n",
            "61/61 [==============================] - ETA: 0s - loss: 1.5760\n",
            "Epoch 87: loss improved from 1.57706 to 1.57604, saving model to nextword1.h5\n",
            "61/61 [==============================] - 21s 340ms/step - loss: 1.5760 - lr: 0.0010\n",
            "Epoch 88/150\n",
            "61/61 [==============================] - ETA: 0s - loss: 1.5587\n",
            "Epoch 88: loss improved from 1.57604 to 1.55870, saving model to nextword1.h5\n",
            "61/61 [==============================] - 19s 303ms/step - loss: 1.5587 - lr: 0.0010\n",
            "Epoch 89/150\n",
            "61/61 [==============================] - ETA: 0s - loss: 1.5602\n",
            "Epoch 89: loss did not improve from 1.55870\n",
            "61/61 [==============================] - 20s 331ms/step - loss: 1.5602 - lr: 0.0010\n",
            "Epoch 90/150\n",
            "61/61 [==============================] - ETA: 0s - loss: 1.5756\n",
            "Epoch 90: loss did not improve from 1.55870\n",
            "61/61 [==============================] - 20s 321ms/step - loss: 1.5756 - lr: 0.0010\n",
            "Epoch 91/150\n",
            "61/61 [==============================] - ETA: 0s - loss: 1.5593\n",
            "Epoch 91: loss did not improve from 1.55870\n",
            "\n",
            "Epoch 91: ReduceLROnPlateau reducing learning rate to 0.00020000000949949026.\n",
            "61/61 [==============================] - 19s 314ms/step - loss: 1.5593 - lr: 0.0010\n",
            "Epoch 92/150\n",
            "61/61 [==============================] - ETA: 0s - loss: 1.1644\n",
            "Epoch 92: loss improved from 1.55870 to 1.16435, saving model to nextword1.h5\n",
            "61/61 [==============================] - 19s 310ms/step - loss: 1.1644 - lr: 2.0000e-04\n",
            "Epoch 93/150\n",
            "61/61 [==============================] - ETA: 0s - loss: 1.0060\n",
            "Epoch 93: loss improved from 1.16435 to 1.00600, saving model to nextword1.h5\n",
            "61/61 [==============================] - 20s 322ms/step - loss: 1.0060 - lr: 2.0000e-04\n",
            "Epoch 94/150\n",
            "61/61 [==============================] - ETA: 0s - loss: 0.9504\n",
            "Epoch 94: loss improved from 1.00600 to 0.95040, saving model to nextword1.h5\n",
            "61/61 [==============================] - 18s 302ms/step - loss: 0.9504 - lr: 2.0000e-04\n",
            "Epoch 95/150\n",
            "61/61 [==============================] - ETA: 0s - loss: 0.9195\n",
            "Epoch 95: loss improved from 0.95040 to 0.91946, saving model to nextword1.h5\n",
            "61/61 [==============================] - 20s 320ms/step - loss: 0.9195 - lr: 2.0000e-04\n",
            "Epoch 96/150\n",
            "61/61 [==============================] - ETA: 0s - loss: 0.8988\n",
            "Epoch 96: loss improved from 0.91946 to 0.89876, saving model to nextword1.h5\n",
            "61/61 [==============================] - 18s 302ms/step - loss: 0.8988 - lr: 2.0000e-04\n",
            "Epoch 97/150\n",
            "61/61 [==============================] - ETA: 0s - loss: 0.8848\n",
            "Epoch 97: loss improved from 0.89876 to 0.88484, saving model to nextword1.h5\n",
            "61/61 [==============================] - 20s 336ms/step - loss: 0.8848 - lr: 2.0000e-04\n",
            "Epoch 98/150\n",
            "61/61 [==============================] - ETA: 0s - loss: 0.8756\n",
            "Epoch 98: loss improved from 0.88484 to 0.87564, saving model to nextword1.h5\n",
            "61/61 [==============================] - 19s 307ms/step - loss: 0.8756 - lr: 2.0000e-04\n",
            "Epoch 99/150\n",
            "61/61 [==============================] - ETA: 0s - loss: 0.8671\n",
            "Epoch 99: loss improved from 0.87564 to 0.86705, saving model to nextword1.h5\n",
            "61/61 [==============================] - 19s 318ms/step - loss: 0.8671 - lr: 2.0000e-04\n",
            "Epoch 100/150\n",
            "61/61 [==============================] - ETA: 0s - loss: 0.8585\n",
            "Epoch 100: loss improved from 0.86705 to 0.85850, saving model to nextword1.h5\n",
            "61/61 [==============================] - 19s 309ms/step - loss: 0.8585 - lr: 2.0000e-04\n",
            "Epoch 101/150\n",
            "61/61 [==============================] - ETA: 0s - loss: 0.8547\n",
            "Epoch 101: loss improved from 0.85850 to 0.85470, saving model to nextword1.h5\n",
            "61/61 [==============================] - 19s 318ms/step - loss: 0.8547 - lr: 2.0000e-04\n",
            "Epoch 102/150\n",
            "61/61 [==============================] - ETA: 0s - loss: 0.8488\n",
            "Epoch 102: loss improved from 0.85470 to 0.84877, saving model to nextword1.h5\n",
            "61/61 [==============================] - 19s 307ms/step - loss: 0.8488 - lr: 2.0000e-04\n",
            "Epoch 103/150\n",
            "61/61 [==============================] - ETA: 0s - loss: 0.8449\n",
            "Epoch 103: loss improved from 0.84877 to 0.84488, saving model to nextword1.h5\n",
            "61/61 [==============================] - 20s 331ms/step - loss: 0.8449 - lr: 2.0000e-04\n",
            "Epoch 104/150\n",
            "61/61 [==============================] - ETA: 0s - loss: 0.8361\n",
            "Epoch 104: loss improved from 0.84488 to 0.83610, saving model to nextword1.h5\n",
            "61/61 [==============================] - 19s 305ms/step - loss: 0.8361 - lr: 2.0000e-04\n",
            "Epoch 105/150\n",
            "61/61 [==============================] - ETA: 0s - loss: 0.8352\n",
            "Epoch 105: loss improved from 0.83610 to 0.83521, saving model to nextword1.h5\n",
            "61/61 [==============================] - 25s 418ms/step - loss: 0.8352 - lr: 2.0000e-04\n",
            "Epoch 106/150\n",
            "61/61 [==============================] - ETA: 0s - loss: 0.8297\n",
            "Epoch 106: loss improved from 0.83521 to 0.82972, saving model to nextword1.h5\n",
            "61/61 [==============================] - 21s 337ms/step - loss: 0.8297 - lr: 2.0000e-04\n",
            "Epoch 107/150\n",
            "61/61 [==============================] - ETA: 0s - loss: 0.8275\n",
            "Epoch 107: loss improved from 0.82972 to 0.82755, saving model to nextword1.h5\n",
            "61/61 [==============================] - 19s 303ms/step - loss: 0.8275 - lr: 2.0000e-04\n",
            "Epoch 108/150\n",
            "61/61 [==============================] - ETA: 0s - loss: 0.8230\n",
            "Epoch 108: loss improved from 0.82755 to 0.82301, saving model to nextword1.h5\n",
            "61/61 [==============================] - 19s 313ms/step - loss: 0.8230 - lr: 2.0000e-04\n",
            "Epoch 109/150\n",
            "61/61 [==============================] - ETA: 0s - loss: 0.8231\n",
            "Epoch 109: loss did not improve from 0.82301\n",
            "61/61 [==============================] - 18s 299ms/step - loss: 0.8231 - lr: 2.0000e-04\n",
            "Epoch 110/150\n",
            "61/61 [==============================] - ETA: 0s - loss: 0.8190\n",
            "Epoch 110: loss improved from 0.82301 to 0.81898, saving model to nextword1.h5\n",
            "61/61 [==============================] - 20s 322ms/step - loss: 0.8190 - lr: 2.0000e-04\n",
            "Epoch 111/150\n",
            "61/61 [==============================] - ETA: 0s - loss: 0.8198\n",
            "Epoch 111: loss did not improve from 0.81898\n",
            "61/61 [==============================] - 18s 297ms/step - loss: 0.8198 - lr: 2.0000e-04\n",
            "Epoch 112/150\n",
            "61/61 [==============================] - ETA: 0s - loss: 0.8181\n",
            "Epoch 112: loss improved from 0.81898 to 0.81814, saving model to nextword1.h5\n",
            "61/61 [==============================] - 20s 321ms/step - loss: 0.8181 - lr: 2.0000e-04\n",
            "Epoch 113/150\n",
            "61/61 [==============================] - ETA: 0s - loss: 0.8116\n",
            "Epoch 113: loss improved from 0.81814 to 0.81156, saving model to nextword1.h5\n",
            "61/61 [==============================] - 18s 301ms/step - loss: 0.8116 - lr: 2.0000e-04\n",
            "Epoch 114/150\n",
            "61/61 [==============================] - ETA: 0s - loss: 0.8069\n",
            "Epoch 114: loss improved from 0.81156 to 0.80692, saving model to nextword1.h5\n",
            "61/61 [==============================] - 19s 316ms/step - loss: 0.8069 - lr: 2.0000e-04\n",
            "Epoch 115/150\n",
            "61/61 [==============================] - ETA: 0s - loss: 0.8078\n",
            "Epoch 115: loss did not improve from 0.80692\n",
            "61/61 [==============================] - 19s 317ms/step - loss: 0.8078 - lr: 2.0000e-04\n",
            "Epoch 116/150\n",
            "61/61 [==============================] - ETA: 0s - loss: 0.8060\n",
            "Epoch 116: loss improved from 0.80692 to 0.80602, saving model to nextword1.h5\n",
            "61/61 [==============================] - 22s 367ms/step - loss: 0.8060 - lr: 2.0000e-04\n",
            "Epoch 117/150\n",
            "61/61 [==============================] - ETA: 0s - loss: 0.8009\n",
            "Epoch 117: loss improved from 0.80602 to 0.80093, saving model to nextword1.h5\n",
            "61/61 [==============================] - 19s 309ms/step - loss: 0.8009 - lr: 2.0000e-04\n",
            "Epoch 118/150\n",
            "61/61 [==============================] - ETA: 0s - loss: 0.7999\n",
            "Epoch 118: loss improved from 0.80093 to 0.79990, saving model to nextword1.h5\n",
            "61/61 [==============================] - 20s 326ms/step - loss: 0.7999 - lr: 2.0000e-04\n",
            "Epoch 119/150\n",
            "61/61 [==============================] - ETA: 0s - loss: 0.7958\n",
            "Epoch 119: loss improved from 0.79990 to 0.79575, saving model to nextword1.h5\n",
            "61/61 [==============================] - 19s 312ms/step - loss: 0.7958 - lr: 2.0000e-04\n",
            "Epoch 120/150\n",
            "61/61 [==============================] - ETA: 0s - loss: 0.7999\n",
            "Epoch 120: loss did not improve from 0.79575\n",
            "61/61 [==============================] - 21s 336ms/step - loss: 0.7999 - lr: 2.0000e-04\n",
            "Epoch 121/150\n",
            "61/61 [==============================] - ETA: 0s - loss: 0.7947\n",
            "Epoch 121: loss improved from 0.79575 to 0.79470, saving model to nextword1.h5\n",
            "61/61 [==============================] - 19s 305ms/step - loss: 0.7947 - lr: 2.0000e-04\n",
            "Epoch 122/150\n",
            "61/61 [==============================] - ETA: 0s - loss: 0.7937\n",
            "Epoch 122: loss improved from 0.79470 to 0.79367, saving model to nextword1.h5\n",
            "61/61 [==============================] - 20s 317ms/step - loss: 0.7937 - lr: 2.0000e-04\n",
            "Epoch 123/150\n",
            "61/61 [==============================] - ETA: 0s - loss: 0.7915\n",
            "Epoch 123: loss improved from 0.79367 to 0.79154, saving model to nextword1.h5\n",
            "61/61 [==============================] - 19s 313ms/step - loss: 0.7915 - lr: 2.0000e-04\n",
            "Epoch 124/150\n",
            "61/61 [==============================] - ETA: 0s - loss: 0.7870\n",
            "Epoch 124: loss improved from 0.79154 to 0.78696, saving model to nextword1.h5\n",
            "61/61 [==============================] - 21s 334ms/step - loss: 0.7870 - lr: 2.0000e-04\n",
            "Epoch 125/150\n",
            "61/61 [==============================] - ETA: 0s - loss: 0.7870\n",
            "Epoch 125: loss did not improve from 0.78696\n",
            "61/61 [==============================] - 21s 350ms/step - loss: 0.7870 - lr: 2.0000e-04\n",
            "Epoch 126/150\n",
            "61/61 [==============================] - ETA: 0s - loss: 0.7839\n",
            "Epoch 126: loss improved from 0.78696 to 0.78388, saving model to nextword1.h5\n",
            "61/61 [==============================] - 19s 311ms/step - loss: 0.7839 - lr: 2.0000e-04\n",
            "Epoch 127/150\n",
            "61/61 [==============================] - ETA: 0s - loss: 0.7862\n",
            "Epoch 127: loss did not improve from 0.78388\n",
            "61/61 [==============================] - 20s 328ms/step - loss: 0.7862 - lr: 2.0000e-04\n",
            "Epoch 128/150\n",
            "61/61 [==============================] - ETA: 0s - loss: 0.7858\n",
            "Epoch 128: loss did not improve from 0.78388\n",
            "61/61 [==============================] - 18s 301ms/step - loss: 0.7858 - lr: 2.0000e-04\n",
            "Epoch 129/150\n",
            "61/61 [==============================] - ETA: 0s - loss: 0.7817\n",
            "Epoch 129: loss improved from 0.78388 to 0.78175, saving model to nextword1.h5\n",
            "61/61 [==============================] - 20s 330ms/step - loss: 0.7817 - lr: 2.0000e-04\n",
            "Epoch 130/150\n",
            "61/61 [==============================] - ETA: 0s - loss: 0.7787\n",
            "Epoch 130: loss improved from 0.78175 to 0.77866, saving model to nextword1.h5\n",
            "61/61 [==============================] - 20s 325ms/step - loss: 0.7787 - lr: 2.0000e-04\n",
            "Epoch 131/150\n",
            "61/61 [==============================] - ETA: 0s - loss: 0.7791\n",
            "Epoch 131: loss did not improve from 0.77866\n",
            "61/61 [==============================] - 20s 319ms/step - loss: 0.7791 - lr: 2.0000e-04\n",
            "Epoch 132/150\n",
            "61/61 [==============================] - ETA: 0s - loss: 0.7771\n",
            "Epoch 132: loss improved from 0.77866 to 0.77714, saving model to nextword1.h5\n",
            "61/61 [==============================] - 20s 325ms/step - loss: 0.7771 - lr: 2.0000e-04\n",
            "Epoch 133/150\n",
            "61/61 [==============================] - ETA: 0s - loss: 0.7776\n",
            "Epoch 133: loss did not improve from 0.77714\n",
            "61/61 [==============================] - 19s 301ms/step - loss: 0.7776 - lr: 2.0000e-04\n",
            "Epoch 134/150\n",
            "61/61 [==============================] - ETA: 0s - loss: 0.7736\n",
            "Epoch 134: loss improved from 0.77714 to 0.77356, saving model to nextword1.h5\n",
            "61/61 [==============================] - 21s 338ms/step - loss: 0.7736 - lr: 2.0000e-04\n",
            "Epoch 135/150\n",
            "61/61 [==============================] - ETA: 0s - loss: 0.7740\n",
            "Epoch 135: loss did not improve from 0.77356\n",
            "61/61 [==============================] - 20s 318ms/step - loss: 0.7740 - lr: 2.0000e-04\n",
            "Epoch 136/150\n",
            "61/61 [==============================] - ETA: 0s - loss: 0.7707\n",
            "Epoch 136: loss improved from 0.77356 to 0.77069, saving model to nextword1.h5\n",
            "61/61 [==============================] - 25s 414ms/step - loss: 0.7707 - lr: 2.0000e-04\n",
            "Epoch 137/150\n",
            "61/61 [==============================] - ETA: 0s - loss: 0.7683\n",
            "Epoch 137: loss improved from 0.77069 to 0.76830, saving model to nextword1.h5\n",
            "61/61 [==============================] - 19s 309ms/step - loss: 0.7683 - lr: 2.0000e-04\n",
            "Epoch 138/150\n",
            "61/61 [==============================] - ETA: 0s - loss: 0.7693\n",
            "Epoch 138: loss did not improve from 0.76830\n",
            "61/61 [==============================] - 20s 320ms/step - loss: 0.7693 - lr: 2.0000e-04\n",
            "Epoch 139/150\n",
            "61/61 [==============================] - ETA: 0s - loss: 0.7675\n",
            "Epoch 139: loss improved from 0.76830 to 0.76753, saving model to nextword1.h5\n",
            "61/61 [==============================] - 20s 323ms/step - loss: 0.7675 - lr: 2.0000e-04\n",
            "Epoch 140/150\n",
            "61/61 [==============================] - ETA: 0s - loss: 0.7681\n",
            "Epoch 140: loss did not improve from 0.76753\n",
            "61/61 [==============================] - 20s 322ms/step - loss: 0.7681 - lr: 2.0000e-04\n",
            "Epoch 141/150\n",
            "61/61 [==============================] - ETA: 0s - loss: 0.7673\n",
            "Epoch 141: loss improved from 0.76753 to 0.76731, saving model to nextword1.h5\n",
            "61/61 [==============================] - 19s 308ms/step - loss: 0.7673 - lr: 2.0000e-04\n",
            "Epoch 142/150\n",
            "61/61 [==============================] - ETA: 0s - loss: 0.7647\n",
            "Epoch 142: loss improved from 0.76731 to 0.76474, saving model to nextword1.h5\n",
            "61/61 [==============================] - 20s 323ms/step - loss: 0.7647 - lr: 2.0000e-04\n",
            "Epoch 143/150\n",
            "61/61 [==============================] - ETA: 0s - loss: 0.7635\n",
            "Epoch 143: loss improved from 0.76474 to 0.76352, saving model to nextword1.h5\n",
            "61/61 [==============================] - 20s 334ms/step - loss: 0.7635 - lr: 2.0000e-04\n",
            "Epoch 144/150\n",
            "61/61 [==============================] - ETA: 0s - loss: 0.7614\n",
            "Epoch 144: loss improved from 0.76352 to 0.76143, saving model to nextword1.h5\n",
            "61/61 [==============================] - 19s 313ms/step - loss: 0.7614 - lr: 2.0000e-04\n",
            "Epoch 145/150\n",
            "61/61 [==============================] - ETA: 0s - loss: 0.7619\n",
            "Epoch 145: loss did not improve from 0.76143\n",
            "61/61 [==============================] - 18s 296ms/step - loss: 0.7619 - lr: 2.0000e-04\n",
            "Epoch 146/150\n",
            "61/61 [==============================] - ETA: 0s - loss: 0.7612\n",
            "Epoch 146: loss improved from 0.76143 to 0.76119, saving model to nextword1.h5\n",
            "61/61 [==============================] - 20s 321ms/step - loss: 0.7612 - lr: 2.0000e-04\n",
            "Epoch 147/150\n",
            "61/61 [==============================] - ETA: 0s - loss: 0.7604\n",
            "Epoch 147: loss improved from 0.76119 to 0.76037, saving model to nextword1.h5\n",
            "61/61 [==============================] - 18s 298ms/step - loss: 0.7604 - lr: 2.0000e-04\n",
            "Epoch 148/150\n",
            "61/61 [==============================] - ETA: 0s - loss: 0.7610\n",
            "Epoch 148: loss did not improve from 0.76037\n",
            "61/61 [==============================] - 19s 311ms/step - loss: 0.7610 - lr: 2.0000e-04\n",
            "Epoch 149/150\n",
            "61/61 [==============================] - ETA: 0s - loss: 0.7559\n",
            "Epoch 149: loss improved from 0.76037 to 0.75594, saving model to nextword1.h5\n",
            "61/61 [==============================] - 19s 310ms/step - loss: 0.7559 - lr: 2.0000e-04\n",
            "Epoch 150/150\n",
            "61/61 [==============================] - ETA: 0s - loss: 0.7589\n",
            "Epoch 150: loss did not improve from 0.75594\n",
            "61/61 [==============================] - 20s 333ms/step - loss: 0.7589 - lr: 2.0000e-04\n"
          ]
        },
        {
          "output_type": "execute_result",
          "data": {
            "text/plain": [
              "<keras.callbacks.History at 0x7f20996d3df0>"
            ]
          },
          "metadata": {},
          "execution_count": 17
        }
      ],
      "source": [
        "\n",
        "\n",
        "model.fit(X, y, epochs=150, batch_size=64, callbacks=[checkpoint, reduce, tensorboard_Visualization])"
      ]
    },
    {
      "cell_type": "markdown",
      "metadata": {
        "id": "FXe_Yme0hkJ_"
      },
      "source": [
        "### Creating the Prediction Script:"
      ]
    },
    {
      "cell_type": "code",
      "execution_count": 18,
      "metadata": {
        "id": "hV8HUCsshkKF"
      },
      "outputs": [],
      "source": [
        "from tensorflow.keras.models import load_model\n",
        "import numpy as np\n",
        "import pickle\n",
        "model = load_model('/content/nextword1.h5')\n",
        "tokenizer = pickle.load(open('/content/tokenizer1.pkl', 'rb'))\n",
        "\n",
        "def Predict_Next_Words(model, tokenizer, text):\n",
        "    for i in range(3):\n",
        "        sequence = tokenizer.texts_to_sequences([text])[0]\n",
        "        sequence = np.array(sequence)\n",
        "        \n",
        "        preds = np.argmax(model.predict(sequence), axis=1)\n",
        "        predicted_word = \"\"\n",
        "        \n",
        "        for key, value in tokenizer.word_index.items():\n",
        "            if value == preds:\n",
        "                predicted_word = key\n",
        "                break\n",
        "        \n",
        "        print(predicted_word)\n",
        "        return predicted_word"
      ]
    },
    {
      "cell_type": "code",
      "execution_count": 20,
      "metadata": {
        "id": "qA_wmCRMhkKH",
        "outputId": "ce8d035c-4d50-4d1a-8480-cbb1e165c233",
        "colab": {
          "base_uri": "https://localhost:8080/"
        }
      },
      "outputs": [
        {
          "output_type": "stream",
          "name": "stdout",
          "text": [
            "Enter your line: floundering\n",
            "1/1 [==============================] - 0s 39ms/step\n",
            "only\n",
            "Enter your line: he was used to\n",
            "1/1 [==============================] - 0s 43ms/step\n",
            "cover\n",
            "Enter your line: strenuous\n",
            "1/1 [==============================] - 0s 38ms/step\n",
            "career\n",
            "Enter your line: irregular\n",
            "1/1 [==============================] - 0s 32ms/step\n",
            "food\n",
            "Enter your line: stop the script\n",
            "Ending The Program.....\n"
          ]
        }
      ],
      "source": [
        "while(True):\n",
        "\n",
        "    text = input(\"Enter your line: \")\n",
        "    \n",
        "    if text == \"stop the script\":\n",
        "        print(\"Ending The Program.....\")\n",
        "        break\n",
        "    \n",
        "    else:\n",
        "        text = text.split(\" \")\n",
        "        text = text[-1]\n",
        "\n",
        "        text = ''.join(text)\n",
        "        Predict_Next_Words(model, tokenizer, text)"
      ]
    }
  ],
  "metadata": {
    "kernelspec": {
      "display_name": "Python 3",
      "language": "python",
      "name": "python3"
    },
    "language_info": {
      "codemirror_mode": {
        "name": "ipython",
        "version": 3
      },
      "file_extension": ".py",
      "mimetype": "text/x-python",
      "name": "python",
      "nbconvert_exporter": "python",
      "pygments_lexer": "ipython3",
      "version": "3.7.7"
    },
    "colab": {
      "provenance": []
    }
  },
  "nbformat": 4,
  "nbformat_minor": 0
}